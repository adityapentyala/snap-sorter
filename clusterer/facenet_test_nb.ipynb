{
 "cells": [
  {
   "attachments": {},
   "cell_type": "markdown",
   "metadata": {},
   "source": [
    "**TESTING FaceNet METHODS**"
   ]
  },
  {
   "cell_type": "code",
   "execution_count": 1,
   "metadata": {},
   "outputs": [],
   "source": [
    "import os\n",
    "from PIL import Image\n",
    "import numpy as np\n",
    "from torchvision import transforms, datasets\n",
    "import torch\n",
    "from model import FaceNet\n",
    "import random\n",
    "from torch.utils.data import TensorDataset, Dataset"
   ]
  },
  {
   "attachments": {},
   "cell_type": "markdown",
   "metadata": {},
   "source": [
    "<h1>Reading from the Dataset</h1>\n",
    "<p>\n",
    "    Dataset from: https://www.kaggle.com/datasets/dansbecker/5-celebrity-faces-dataset\n",
    "    This is a small dataset for experimenting with computer vision techniques. It has a training directory containing 14-20 photos each of the celebrities\n",
    "\n",
    "    Ben Afflek\n",
    "    Elton John\n",
    "    Jerry Seinfeld\n",
    "    Madonna\n",
    "    Mindy Kaling\n",
    "\n",
    "    The validation directory has 5 photos of each celebrity.\n",
    "\n",
    "\n",
    "    In the below code, images of ben affleck are read.\n",
    "</p>"
   ]
  },
  {
   "cell_type": "code",
   "execution_count": 2,
   "metadata": {},
   "outputs": [],
   "source": [
    "directory = \"C:\\\\Users\\\\adity\\\\Downloads\\\\faces_for_embedding\\\\train\\\\ben_afflek\"\n",
    "image_height, image_width = 128, 128\n",
    "transform = transforms.Compose([\n",
    "    transforms.Resize((image_height, image_width)),\n",
    "    transforms.ToTensor(),\n",
    "    transforms.Normalize(mean=[0.5, 0.5, 0.5], std=[0.5, 0.5, 0.5])\n",
    "])\n",
    "images = []\n",
    "for filename in os.listdir(directory):\n",
    "    if filename.endswith('.jpg') or filename.endswith('.png'):\n",
    "        image_path = os.path.join(directory, filename)\n",
    "        image = Image.open(image_path).convert('RGB')\n",
    "        image = transform(image)\n",
    "        images.append((image))"
   ]
  },
  {
   "attachments": {},
   "cell_type": "markdown",
   "metadata": {},
   "source": [
    "<p>\n",
    "    Printing the number of images, the type of each image, and the shape of the tensor\n",
    "</p>"
   ]
  },
  {
   "cell_type": "code",
   "execution_count": 3,
   "metadata": {},
   "outputs": [
    {
     "name": "stdout",
     "output_type": "stream",
     "text": [
      "14\n",
      "<class 'torch.Tensor'>\n",
      "torch.Size([14, 3, 128, 128])\n"
     ]
    }
   ],
   "source": [
    "images = torch.stack(images)\n",
    "print(len(images))\n",
    "print(type(images[0]))\n",
    "print(images.shape)"
   ]
  },
  {
   "attachments": {},
   "cell_type": "markdown",
   "metadata": {},
   "source": [
    "<p>\n",
    "As expected, there are 14 RGB 128x128 images.\n",
    "</p>"
   ]
  },
  {
   "cell_type": "code",
   "execution_count": 4,
   "metadata": {},
   "outputs": [
    {
     "name": "stdout",
     "output_type": "stream",
     "text": [
      "Linear(in_features=1792, out_features=256, bias=True)\n",
      "(14, 256)\n",
      "<class 'numpy.ndarray'>\n"
     ]
    },
    {
     "data": {
      "text/plain": [
       "<model.FaceNet at 0x1bf91cb9bd0>"
      ]
     },
     "execution_count": 4,
     "metadata": {},
     "output_type": "execute_result"
    }
   ],
   "source": [
    "facenet = FaceNet(embedding_size=256)\n",
    "print(facenet.model.last_linear)\n",
    "embeddings = facenet.embed(images)\n",
    "print(embeddings.shape)\n",
    "print(type(embeddings))\n",
    "\n",
    "#saving and loading model states\n",
    "facenet.save_model('test_save')\n",
    "FaceNet.load_model('test_save')"
   ]
  },
  {
   "attachments": {},
   "cell_type": "markdown",
   "metadata": {},
   "source": [
    "<p>As expected, the model returns 14 256 dimensional tensors, upon setting the embedding_size to 256.</p>"
   ]
  },
  {
   "attachments": {},
   "cell_type": "markdown",
   "metadata": {},
   "source": [
    "<H1>Extracting images from folder</H1>"
   ]
  },
  {
   "cell_type": "code",
   "execution_count": 10,
   "metadata": {},
   "outputs": [],
   "source": [
    "root_folder = \"C:\\\\Users\\\\adity\\\\Downloads\\\\faces_for_embedding\\\\train\"\n",
    "\n",
    "# Create the ImageFolder dataset\n",
    "dataset = datasets.ImageFolder(root_folder, transform=transform)\n",
    "\n",
    "# Get the class names (person names)\n",
    "class_names = dataset.classes\n",
    "\n",
    "# Define the number of samples for each triplet\n",
    "num_triplets = 250\n",
    "\n",
    "# Initialize empty lists to store the triplet samples\n",
    "anchors = []\n",
    "positives = []\n",
    "negatives = []\n",
    "\n",
    "# Iterate over the class folders\n",
    "for class_idx in range(len(class_names)):\n",
    "    class_folder = os.path.join(root_folder, class_names[class_idx])\n",
    "\n",
    "    # Get the list of images for the current class\n",
    "    image_list = dataset.imgs[dataset.class_to_idx[class_names[class_idx]]:]\n",
    "\n",
    "    # Select random samples for the triplets\n",
    "    for _ in range(num_triplets):\n",
    "        # Randomly select a person (anchor and positive samples will be from this person)\n",
    "        person_idx = class_idx\n",
    "\n",
    "        # Randomly select an anchor image from the person's subfolder\n",
    "        anchor_image_path = random.choice(image_list)[0]\n",
    "        anchor_image = dataset.loader(anchor_image_path)\n",
    "\n",
    "        # Randomly select a positive image from the same person's subfolder\n",
    "        positive_image_path = random.choice(image_list)[0]\n",
    "        positive_image = dataset.loader(positive_image_path)\n",
    "\n",
    "        # Randomly select a negative person (different from the anchor and positive person)\n",
    "        negative_person_idx = (person_idx + random.randint(1, len(class_names) - 1)) % len(class_names)\n",
    "\n",
    "        # Get the list of images for the negative person\n",
    "        negative_person_folder = os.path.join(root_folder, class_names[negative_person_idx])\n",
    "        negative_person_image_list = dataset.imgs[dataset.class_to_idx[class_names[negative_person_idx]]:]\n",
    "\n",
    "        # Randomly select a negative image from the negative person's subfolder\n",
    "        negative_image_path = random.choice(negative_person_image_list)[0]\n",
    "        negative_image = dataset.loader(negative_image_path)\n",
    "\n",
    "        # Append the triplet samples to the respective lists\n",
    "        anchors.append(anchor_image)\n",
    "        positives.append(positive_image)\n",
    "        negatives.append(negative_image)"
   ]
  },
  {
   "cell_type": "code",
   "execution_count": 6,
   "metadata": {},
   "outputs": [],
   "source": [
    "'''for i in range(len(anchors)):\n",
    "    anchors[i] = transform(anchors[i])\n",
    "    positives[i] = transform(positives[i])\n",
    "    negatives[i] = transform(negatives[i])\n",
    "'''"
   ]
  },
  {
   "cell_type": "code",
   "execution_count": 12,
   "metadata": {},
   "outputs": [
    {
     "name": "stdout",
     "output_type": "stream",
     "text": [
      "<class 'PIL.Image.Image'>\n"
     ]
    }
   ],
   "source": [
    "print(type(anchors[0]))\n"
   ]
  },
  {
   "attachments": {},
   "cell_type": "markdown",
   "metadata": {},
   "source": [
    "<H1>Defining dataset class, creating triplet (anchor, positive, negative) dataset</H1>"
   ]
  },
  {
   "cell_type": "code",
   "execution_count": 13,
   "metadata": {},
   "outputs": [],
   "source": [
    "class TripletDataset(Dataset):\n",
    "    def __init__(self, anchors, positives, negatives, transform=None):\n",
    "        self.anchors = anchors\n",
    "        self.positives = positives\n",
    "        self.negatives = negatives\n",
    "        self.transform = transform\n",
    "\n",
    "    def __len__(self):\n",
    "        return len(self.anchors)\n",
    "\n",
    "    def __getitem__(self, index):\n",
    "        anchor = self.anchors[index]\n",
    "        positive = self.positives[index]\n",
    "        negative = self.negatives[index]\n",
    "\n",
    "        if self.transform is not None:\n",
    "            anchor = self.transform(anchor)\n",
    "            positive = self.transform(positive)\n",
    "            negative = self.transform(negative)\n",
    "\n",
    "        return anchor, positive, negative\n",
    "\n",
    "train_dataset = TripletDataset(anchors, positives, negatives, transform=transform)"
   ]
  },
  {
   "attachments": {},
   "cell_type": "markdown",
   "metadata": {},
   "source": [
    "<H1>Training the model</H1>"
   ]
  },
  {
   "cell_type": "code",
   "execution_count": 14,
   "metadata": {},
   "outputs": [
    {
     "name": "stdout",
     "output_type": "stream",
     "text": [
      "Epoch [1/10], Loss: 1.000537946820259\n",
      "Epoch [2/10], Loss: 1.0204570174217225\n",
      "Epoch [3/10], Loss: 0.9928133010864257\n",
      "Epoch [4/10], Loss: 0.9548749297857284\n",
      "Epoch [5/10], Loss: 0.9712955892086029\n",
      "Epoch [6/10], Loss: 0.9703152447938919\n",
      "Epoch [7/10], Loss: 0.9606680750846863\n",
      "Epoch [8/10], Loss: 0.9523997902870178\n",
      "Epoch [9/10], Loss: 0.9306520104408265\n",
      "Epoch [10/10], Loss: 0.9520917236804962\n"
     ]
    }
   ],
   "source": [
    "facenet.train(train_dataset, 64, 10, 0.002)"
   ]
  }
 ],
 "metadata": {
  "kernelspec": {
   "display_name": "snap-sorter-winenv-py310",
   "language": "python",
   "name": "python3"
  },
  "language_info": {
   "codemirror_mode": {
    "name": "ipython",
    "version": 3
   },
   "file_extension": ".py",
   "mimetype": "text/x-python",
   "name": "python",
   "nbconvert_exporter": "python",
   "pygments_lexer": "ipython3",
   "version": "3.10.11"
  },
  "orig_nbformat": 4
 },
 "nbformat": 4,
 "nbformat_minor": 2
}
