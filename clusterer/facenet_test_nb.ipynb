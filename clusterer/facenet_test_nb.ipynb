{
 "cells": [
  {
   "attachments": {},
   "cell_type": "markdown",
   "metadata": {},
   "source": [
    "**TESTING FaceNet METHODS**"
   ]
  },
  {
   "cell_type": "code",
   "execution_count": 1,
   "metadata": {},
   "outputs": [],
   "source": [
    "import os\n",
    "from PIL import Image\n",
    "import numpy as np\n",
    "from torchvision import transforms\n",
    "import torch\n",
    "from model import FaceNet"
   ]
  },
  {
   "attachments": {},
   "cell_type": "markdown",
   "metadata": {},
   "source": [
    "<h1>Reading from the Dataset</h1>\n",
    "<p>\n",
    "    Dataset from: https://www.kaggle.com/datasets/dansbecker/5-celebrity-faces-dataset\n",
    "    This is a small dataset for experimenting with computer vision techniques. It has a training directory containing 14-20 photos each of the celebrities\n",
    "\n",
    "    Ben Afflek\n",
    "    Elton John\n",
    "    Jerry Seinfeld\n",
    "    Madonna\n",
    "    Mindy Kaling\n",
    "\n",
    "    The validation directory has 5 photos of each celebrity.\n",
    "\n",
    "\n",
    "    In the below code, images of ben affleck are read.\n",
    "</p>"
   ]
  },
  {
   "cell_type": "code",
   "execution_count": 2,
   "metadata": {},
   "outputs": [],
   "source": [
    "directory = \"C:\\\\Users\\\\adity\\\\Downloads\\\\faces_for_embedding\\\\train\\\\ben_afflek\"\n",
    "image_height, image_width = 128, 128\n",
    "transform = transforms.Compose([\n",
    "    transforms.Resize((image_height, image_width)),\n",
    "    transforms.ToTensor(),\n",
    "    transforms.Normalize(mean=[0.5, 0.5, 0.5], std=[0.5, 0.5, 0.5])\n",
    "])\n",
    "images = []\n",
    "for filename in os.listdir(directory):\n",
    "    if filename.endswith('.jpg') or filename.endswith('.png'):\n",
    "        image_path = os.path.join(directory, filename)\n",
    "        image = Image.open(image_path).convert('RGB')\n",
    "        image = transform(image)\n",
    "        images.append((image))"
   ]
  },
  {
   "attachments": {},
   "cell_type": "markdown",
   "metadata": {},
   "source": [
    "<p>\n",
    "    Printing the number of images, the type of each image, and the shape of the tensor\n",
    "</p>"
   ]
  },
  {
   "cell_type": "code",
   "execution_count": 3,
   "metadata": {},
   "outputs": [
    {
     "name": "stdout",
     "output_type": "stream",
     "text": [
      "14\n",
      "<class 'torch.Tensor'>\n",
      "torch.Size([14, 3, 128, 128])\n"
     ]
    }
   ],
   "source": [
    "images = torch.stack(images)\n",
    "print(len(images))\n",
    "print(type(images[0]))\n",
    "print(images.shape)"
   ]
  },
  {
   "attachments": {},
   "cell_type": "markdown",
   "metadata": {},
   "source": [
    "<p>\n",
    "As expected, there are 14 RGB 128x128 images.\n",
    "</p>"
   ]
  },
  {
   "cell_type": "code",
   "execution_count": 4,
   "metadata": {},
   "outputs": [
    {
     "name": "stdout",
     "output_type": "stream",
     "text": [
      "(14, 256)\n",
      "<class 'numpy.ndarray'>\n"
     ]
    },
    {
     "data": {
      "text/plain": [
       "<model.FaceNet at 0x2259e472230>"
      ]
     },
     "execution_count": 4,
     "metadata": {},
     "output_type": "execute_result"
    }
   ],
   "source": [
    "facenet = FaceNet(embedding_size=256)\n",
    "facenet.embed(images)\n",
    "embeddings = facenet.embed(images)\n",
    "\n",
    "print(embeddings.shape)\n",
    "print(type(embeddings))\n",
    "\n",
    "#saving and loading model states\n",
    "facenet.save_model('test_save')\n",
    "FaceNet.load_model('test_save')"
   ]
  },
  {
   "attachments": {},
   "cell_type": "markdown",
   "metadata": {},
   "source": [
    "<p>As expected, the model returns 14 256 dimensional tensors, upon setting the embedding_size to 256.</p>"
   ]
  }
 ],
 "metadata": {
  "kernelspec": {
   "display_name": "snap-sorter-winenv-py310",
   "language": "python",
   "name": "python3"
  },
  "language_info": {
   "codemirror_mode": {
    "name": "ipython",
    "version": 3
   },
   "file_extension": ".py",
   "mimetype": "text/x-python",
   "name": "python",
   "nbconvert_exporter": "python",
   "pygments_lexer": "ipython3",
   "version": "3.10.11"
  },
  "orig_nbformat": 4
 },
 "nbformat": 4,
 "nbformat_minor": 2
}
